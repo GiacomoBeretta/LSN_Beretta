{
 "cells": [
  {
   "cell_type": "markdown",
   "metadata": {},
   "source": [
    "# ESERCIZIO 3"
   ]
  },
  {
   "cell_type": "code",
   "execution_count": null,
   "metadata": {},
   "outputs": [
    {
     "name": "stdout",
     "output_type": "stream",
     "text": [
      "N_throws =  100000.0\n",
      "N_block =  1000.0\n"
     ]
    }
   ],
   "source": [
    "import scipy\n",
    "from scipy.special import erf\n",
    "import numpy as np\n",
    "import matplotlib\n",
    "import matplotlib.pyplot as plt\n",
    "import math\n",
    "\n",
    "N_throws, M, t, S0, T, K, r, sigma, N_int = np.loadtxt(\"./option_parameters.txt\")\n",
    "\n",
    "print(\"N_throws = \", N_throws)\n",
    "print(\"N_block = \", M)\n",
    "L = N_throws/M\n",
    "\n",
    "discount = np.exp( -r * ( T - t ) );\n",
    "\n",
    "def N(x):\n",
    "    return 0.5 * (1. + erf(x / np.sqrt(2.)))\n",
    "\n",
    "def black_scholes(S0, K, T, r, sigma):\n",
    "    d1 = 1./(sigma * np.sqrt(T)) * (np.log(S0 / K) + (r + (sigma**2) / 2.) * T)\n",
    "    d2 = d1 - sigma * np.sqrt(T)\n",
    "    C = S0 * N(d1) - K * np.exp(-r * T) * N(d2)\n",
    "    P = S0 *(N(d1) - 1.) - K * np.exp(-r * T) * (N(d2)-1.)\n",
    "    return C, P\n",
    "\n",
    "call, put = black_scholes(S0, K, T, r, sigma)\n",
    "\n",
    "call_opt_dir = np.loadtxt(\"./call_option_direct.txt\")\n",
    "put_opt_dir = np.loadtxt(\"./put_option_direct.txt\")\n",
    "call_opt_dis = np.loadtxt(\"./call_option_discrete.txt\")\n",
    "put_opt_dis = np.loadtxt(\"./put_option_discrete.txt\")\n",
    "\n",
    "\"\"\"\n",
    "#per l'esercizio fatto con le classi\n",
    "call_opt_dir = call_opt_dir * discount\n",
    "put_opt_dir = put_opt_dir * discount\n",
    "call_opt_dis = call_opt_dis * discount\n",
    "put_opt_dis = put_opt_dis * discount\n",
    "\"\"\"\n",
    "\n",
    "x = np.arange(M+1)\n",
    "x = x*L\n",
    "\n",
    "fig1, axs = plt.subplots(2, 2, tight_layout = True, figsize=(16,16))\n",
    "\n",
    "\n",
    "axs[0,0].errorbar(x[1:], call_opt_dir[:,0], yerr = call_opt_dir[:,1])\n",
    "axs[0,0].set_title(\"call option prices (using the direct method)\")\n",
    "\n",
    "axs[0,1].errorbar(x[1:], put_opt_dir[:,0], yerr = put_opt_dir[:,1])\n",
    "axs[0,1].set_title(\"put option prices (using the direct method)\")\n",
    "\n",
    "axs[1,0].errorbar(x[1:], call_opt_dis[:,0], yerr = call_opt_dis[:,1])\n",
    "axs[1,0].set_title(\"call option prices (using the discrete method)\")\n",
    "\n",
    "axs[1,1].errorbar(x[1:], put_opt_dis[:,0], yerr = put_opt_dis[:,1])\n",
    "axs[1,1].set_title(\"put option prices (using the discrete method)\")\n",
    "\n",
    "for i in range(2):\n",
    "    \n",
    "    axs[i,0].axhline(call, c='red', lw=1, ls='solid')\n",
    "    axs[i,0].set(ylim=(12, 18))\n",
    "    axs[i,1].axhline(put, c='red', lw=1, ls='solid')\n",
    "    axs[i,1].set(ylim=(4, 7))\n",
    "    \n",
    "    for j in range(2):\n",
    "        axs[i,j].set(xlabel='steps',ylabel='price')\n",
    "        axs[i,j].grid(True)\n",
    "\n",
    "plt.show()"
   ]
  },
  {
   "cell_type": "code",
   "execution_count": null,
   "metadata": {},
   "outputs": [],
   "source": []
  }
 ],
 "metadata": {
  "kernelspec": {
   "display_name": "Python 3 (ipykernel)",
   "language": "python",
   "name": "python3"
  },
  "language_info": {
   "codemirror_mode": {
    "name": "ipython",
    "version": 3
   },
   "file_extension": ".py",
   "mimetype": "text/x-python",
   "name": "python",
   "nbconvert_exporter": "python",
   "pygments_lexer": "ipython3",
   "version": "3.8.17"
  }
 },
 "nbformat": 4,
 "nbformat_minor": 4
}
